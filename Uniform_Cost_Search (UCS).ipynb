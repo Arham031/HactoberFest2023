{
 "cells": [
  {
   "cell_type": "markdown",
   "id": "b2fee38e",
   "metadata": {},
   "source": [
    "# Uniform Cost Search (UCS)"
   ]
  },
  {
   "cell_type": "markdown",
   "id": "46d826c3",
   "metadata": {},
   "source": [
    "##### Uniform Cost Search (UCS) is a graph search algorithm that explores nodes in a weighted graph in increasing order of cost. "
   ]
  },
  {
   "cell_type": "markdown",
   "id": "1bf98863",
   "metadata": {},
   "source": [
    "Here's a Python code for Uniform Cost Search:"
   ]
  },
  {
   "cell_type": "code",
   "execution_count": 1,
   "id": "ae1bbbdd",
   "metadata": {},
   "outputs": [
    {
     "name": "stdout",
     "output_type": "stream",
     "text": [
      "The cost of the optimal path from A to D is 4.\n"
     ]
    }
   ],
   "source": [
    "import heapq\n",
    "\n",
    "class Node:\n",
    "    def __init__(self, state, cost):\n",
    "        self.state = state\n",
    "        self.cost = cost\n",
    "\n",
    "    def __lt__(self, other):\n",
    "        return self.cost < other.cost\n",
    "\n",
    "def uniform_cost_search(graph, start, goal):\n",
    "    visited = set()\n",
    "    priority_queue = [(0, Node(start, 0))]\n",
    "\n",
    "    while priority_queue:\n",
    "        _, current_node = heapq.heappop(priority_queue)\n",
    "\n",
    "        if current_node.state in visited:\n",
    "            continue\n",
    "\n",
    "        visited.add(current_node.state)\n",
    "\n",
    "        if current_node.state == goal:\n",
    "            return current_node.cost\n",
    "\n",
    "        for neighbor, cost in graph[current_node.state]:\n",
    "            if neighbor not in visited:\n",
    "                heapq.heappush(priority_queue, (current_node.cost + cost, Node(neighbor, current_node.cost + cost)))\n",
    "\n",
    "    return float('inf')\n",
    "\n",
    "# Example Usage\n",
    "graph = {\n",
    "    'A': [('B', 1), ('C', 4)],\n",
    "    'B': [('A', 1), ('C', 2), ('D', 5)],\n",
    "    'C': [('A', 4), ('B', 2), ('D', 1)],\n",
    "    'D': [('B', 5), ('C', 1)]\n",
    "}\n",
    "\n",
    "start_node = 'A'\n",
    "goal_node = 'D'\n",
    "\n",
    "result = uniform_cost_search(graph, start_node, goal_node)\n",
    "\n",
    "if result == float('inf'):\n",
    "    print(f\"There is no path from {start_node} to {goal_node}.\")\n",
    "else:\n",
    "    print(f\"The cost of the optimal path from {start_node} to {goal_node} is {result}.\")\n"
   ]
  },
  {
   "cell_type": "code",
   "execution_count": null,
   "id": "0f302bf6",
   "metadata": {},
   "outputs": [],
   "source": []
  }
 ],
 "metadata": {
  "kernelspec": {
   "display_name": "Python 3 (ipykernel)",
   "language": "python",
   "name": "python3"
  },
  "language_info": {
   "codemirror_mode": {
    "name": "ipython",
    "version": 3
   },
   "file_extension": ".py",
   "mimetype": "text/x-python",
   "name": "python",
   "nbconvert_exporter": "python",
   "pygments_lexer": "ipython3",
   "version": "3.11.5"
  }
 },
 "nbformat": 4,
 "nbformat_minor": 5
}
